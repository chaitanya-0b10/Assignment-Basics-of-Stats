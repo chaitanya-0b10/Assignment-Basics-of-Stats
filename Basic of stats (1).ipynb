{
 "cells": [
  {
   "cell_type": "markdown",
   "id": "db94601c-82a2-4e42-a91a-30958b5f8191",
   "metadata": {},
   "source": [
    "## Assignment: Basic of Stats"
   ]
  },
  {
   "cell_type": "markdown",
   "id": "25beebea-6cea-4608-a6d9-f002009ecee3",
   "metadata": {},
   "source": [
    "1. Explain the different types of data (qualitative and quantitative) and provide examples of each. Discuss \n",
    "nominal, ordinal, interval, and ratio scales"
   ]
  },
  {
   "cell_type": "code",
   "execution_count": 4,
   "id": "a84e2b9b-a7ae-4570-a66d-e543a38b1af1",
   "metadata": {},
   "outputs": [
    {
     "data": {
      "text/plain": [
       "\"\\nQualitative Data:-\\nQualitative data is descriptive, non-numerical data that represents qualities or characteristics.\\nIt provides insights into attributes that cannot be measured with numbers.\\n\\nExamples:\\nColors (red, blue, green)\\nBrands (Apple, Samsung, Google)\\n\\nQuantitative Data:-\\nQuantitative data is numerical data that can be measured and counted. It represents quantities or amounts.\\n\\nExamples:\\nAge (25, 30, 40)\\nHeight (170 cm, 185 cm)\\n\\nMeasurement Scales:->\\n\\n1.Nominal Scale:\\n Used to categorize data into distinct groups without any inherent order.\\nExamples:\\nGender (male, female, other)\\n\\n2.Ordinal Scale:\\n Used to rank data in a specific order, but the differences between the ranks are not equal.\\nExamples:\\nEducational level (high school, bachelor's, master's, PhD)\\n\\n3.Interval Scale:\\n Used to measure data with equal intervals between values, but there is no true zero point.\\nExamples:\\nTemperature (Celsius, Fahrenheit)\\n\\n4.Ratio Scale:\\n Used to measure data with equal intervals between values and a true zero point, allowing for meaningful ratios.\\nExamples:\\nLength (meters, centimeters)\\nWeight (kilograms, pounds)\\n\""
      ]
     },
     "execution_count": 4,
     "metadata": {},
     "output_type": "execute_result"
    }
   ],
   "source": [
    "'''\n",
    "Qualitative Data:-\n",
    "Qualitative data is descriptive, non-numerical data that represents qualities or characteristics.\n",
    "It provides insights into attributes that cannot be measured with numbers.\n",
    "\n",
    "Examples:\n",
    "Colors (red, blue, green)\n",
    "Brands (Apple, Samsung, Google)\n",
    "\n",
    "Quantitative Data:-\n",
    "Quantitative data is numerical data that can be measured and counted. It represents quantities or amounts.\n",
    "\n",
    "Examples:\n",
    "Age (25, 30, 40)\n",
    "Height (170 cm, 185 cm)\n",
    "\n",
    "Measurement Scales:->\n",
    "\n",
    "1.Nominal Scale:\n",
    " Used to categorize data into distinct groups without any inherent order.\n",
    "Examples:\n",
    "Gender (male, female, other)\n",
    "\n",
    "2.Ordinal Scale:\n",
    " Used to rank data in a specific order, but the differences between the ranks are not equal.\n",
    "Examples:\n",
    "Educational level (high school, bachelor's, master's, PhD)\n",
    "\n",
    "3.Interval Scale:\n",
    " Used to measure data with equal intervals between values, but there is no true zero point.\n",
    "Examples:\n",
    "Temperature (Celsius, Fahrenheit)\n",
    "\n",
    "4.Ratio Scale:\n",
    " Used to measure data with equal intervals between values and a true zero point, allowing for meaningful ratios.\n",
    "Examples:\n",
    "Length (meters, centimeters)\n",
    "Weight (kilograms, pounds)\n",
    "'''"
   ]
  },
  {
   "cell_type": "markdown",
   "id": "58dc5029-ff4b-4303-bc1f-b57193a8bba0",
   "metadata": {},
   "source": [
    "2. What are the measures of central tendency, and when should you use each? Discuss the mean, median, \n",
    "and mode with examples and situations where each is appropriate"
   ]
  },
  {
   "cell_type": "code",
   "execution_count": 7,
   "id": "6e4afb85-cc1d-43fa-9d61-a7fb57f6768f",
   "metadata": {},
   "outputs": [
    {
     "name": "stdout",
     "output_type": "stream",
     "text": [
      "Mean: 3.0\n",
      "Median: 3.0\n",
      "Mode of column A: 4\n",
      "Mode of column B: 8\n"
     ]
    }
   ],
   "source": [
    "'''\n",
    "Measures of Central Tendency:-\n",
    "Measures of central tendency are statistical metrics that describe \n",
    "the center point ortypical value of a dataset.\n",
    "The three main measures are mean, median, and mode.\n",
    "\n",
    "1. Mean\n",
    "The mean, or average, is calculated by summing all the values in a dataset and \n",
    "dividing by the number of values.\n",
    "\n",
    "When to use:\n",
    "When the data is symmetrically distributed without outliers.\n",
    "Suitable for interval and ratio data.'''\n",
    "#Example\n",
    "import numpy as np\n",
    "\n",
    "data = [1, 2, 3, 4, 5]\n",
    "mean = np.mean(data)\n",
    "print(f\"Mean: {mean}\")\n",
    "\n",
    "'''\n",
    "2. Median\n",
    "The median is the middle value of a dataset when it is ordered from least to greatest.\n",
    "If the dataset has an even number of observations, the median is the average of the two middle numbers.\n",
    "\n",
    "When to use:\n",
    "When the data is skewed or has outliers.\n",
    "Suitable for ordinal, interval, and ratio data.'''\n",
    "#Example \n",
    "data = [1, 2, 3, 4, 5]\n",
    "median = np.median(data)\n",
    "print(f\"Median: {median}\")\n",
    "\n",
    "'''\n",
    "3. Mode\n",
    "The mode is the value that appears most frequently in a dataset. A dataset can have more than one \n",
    "mode if multiple values have the same highest frequency.\n",
    "\n",
    "When to use:\n",
    "When dealing with categorical data.\n",
    "Suitable for nominal, ordinal, interval, and ratio data.'''\n",
    "import pandas as pd\n",
    "data = {'A': [1, 2, 2, 3, 4, 4, 4, 5, 5, 5, 7],\n",
    "        'B': [5, 6, 6, 7, 8, 8, 8, 9, 9, 9, 10]}\n",
    "df = pd.DataFrame(data)\n",
    "\n",
    "mode_A = df['A'].mode()[0]\n",
    "mode_B = df['B'].mode()[0]\n",
    "\n",
    "print(f\"Mode of column A: {mode_A}\")\n",
    "print(f\"Mode of column B: {mode_B}\")\n"
   ]
  },
  {
   "cell_type": "markdown",
   "id": "34191ea6-f0f2-4b35-9fdc-858fb0a04bb3",
   "metadata": {},
   "source": [
    "3. Explain the concept of dispersion. How do variance and standard deviation measure the spread of data?"
   ]
  },
  {
   "cell_type": "code",
   "execution_count": 12,
   "id": "7d8797f6-539c-4550-80fb-c6cf8d42a834",
   "metadata": {},
   "outputs": [
    {
     "name": "stdout",
     "output_type": "stream",
     "text": [
      "Mean: 5.0\n",
      "Variance: 4.0\n",
      "Standard Deviation: 2.0\n"
     ]
    }
   ],
   "source": [
    "'''Concept of Dispersion\n",
    "Dispersion, also known as variability or spread, refers to the extent \n",
    "to which data points in a dataset differ from each other and from the central value (mean). \n",
    "It provides insights into the distribution and consistency of the data.\n",
    "\n",
    "1.Variance\n",
    "Variance measures the average squared deviation of each data point from the mean. \n",
    "It gives an idea of how spread out the data points are.\n",
    "\n",
    "2. Standard Deviation\n",
    "Standard deviation is the square root of the variance. \n",
    "It provides a measure of the average distance of each data \n",
    "point from the mean, in the same units as the data.'''\n",
    "\n",
    "data = np.array([2, 4, 4, 4, 5, 5, 7, 9])\n",
    "\n",
    "mean = np.mean(data)\n",
    "\n",
    "variance = np.var(data)\n",
    "\n",
    "std_deviation = np.std(data)\n",
    "\n",
    "print(f\"Mean: {mean}\")\n",
    "print(f\"Variance: {variance}\")\n",
    "print(f\"Standard Deviation: {std_deviation}\")\n"
   ]
  },
  {
   "cell_type": "code",
   "execution_count": null,
   "id": "442c23d5-1b70-4725-abc2-90d38008480a",
   "metadata": {},
   "outputs": [],
   "source": []
  },
  {
   "cell_type": "code",
   "execution_count": 15,
   "id": "a7fef466-e9d3-42c7-901c-c8bed8c3687e",
   "metadata": {},
   "outputs": [
    {
     "data": {
      "image/png": "[encoded data removed]",
      "text/plain": [
       "<Figure size 640x480 with 1 Axes>"
      ]
     },
     "metadata": {},
     "output_type": "display_data"
    }
   ],
   "source": [
    "'''\n",
    "Box Plot\n",
    "A box plot, also known as a box-and-whisker plot, is a graphical representation used to display \n",
    "the distribution of a dataset. It summarizes data using five key statistics: minimum,\n",
    "first quartile, median, third quartile, and maximum. Box plots are particularly useful for\n",
    "identifying outliers and understanding the spread and skewness of the data.'''\n",
    "#example\n",
    "\n",
    "import matplotlib.pyplot as plt\n",
    "\n",
    "data = [2, 4, 4, 4, 5, 5, 7, 9, 10, 12, 15, 18, 21, 22, 24, 25, 28, 30, 35, 40]\n",
    "\n",
    "plt.boxplot(data)\n",
    "\n",
    "plt.title('Box Plot Example')\n",
    "plt.ylabel('Values')\n",
    "\n",
    "plt.show()"
   ]
  },
  {
   "cell_type": "markdown",
   "id": "bbfcdbdd-a953-46f5-aae0-6a49448d76f4",
   "metadata": {},
   "source": [
    "5. Discuss the role of random sampling in making inferences about populations."
   ]
  },
  {
   "cell_type": "code",
   "execution_count": 18,
   "id": "3c2ea31c-322c-4c88-bcdf-714a92fef136",
   "metadata": {},
   "outputs": [
    {
     "data": {
      "text/plain": [
       "'\\nRandom sampling is a powerful tool in statistics that allows researchers to make accurate\\ninferences about a population based on a sample. By reducing bias and enhancing validity, \\nit ensures that the findings are reliable and generalizable. Whether it’s simple random sampling, \\nsystematic sampling, stratified sampling, or cluster sampling, \\nthe key is to ensure that the sample is representative of the population.'"
      ]
     },
     "execution_count": 18,
     "metadata": {},
     "output_type": "execute_result"
    }
   ],
   "source": [
    "\"\"\"\n",
    "Random sampling is a powerful tool in statistics that allows researchers to make accurate\n",
    "inferences about a population based on a sample. By reducing bias and enhancing validity, \n",
    "it ensures that the findings are reliable and generalizable. Whether it’s simple random sampling, \n",
    "systematic sampling, stratified sampling, or cluster sampling, \n",
    "the key is to ensure that the sample is representative of the population.\"\"\""
   ]
  },
  {
   "cell_type": "markdown",
   "id": "ddffeb3b-a9d3-49bd-ac3e-465fbad0f309",
   "metadata": {},
   "source": [
    "\n",
    "6. Explain the concept of skewness and its types. How does skewness affect the interpretation of data"
   ]
  },
  {
   "cell_type": "code",
   "execution_count": 21,
   "id": "85d61e86-fe12-40e4-8a98-04f9af35fe91",
   "metadata": {},
   "outputs": [
    {
     "data": {
      "text/plain": [
       "'\\nSkewness is a measure of the asymmetry of a distribution. \\nIt indicates whether the data points are more concentrated on one side of the mean than the other.\\nSkewness can be positive, negative, or zero, and it affects how we interpret the central tendency and spread of the data.\\n\\nTypes of Skewness:\\n1.Positive Skewness (Right Skew):\\n In a positively skewed distribution, the tail on the right side is longer or fatter than the left side. \\n Most data points are concentrated on the left.\\n\\n2.Negative Skewness (Left Skew):\\nDescription: In a negatively skewed distribution, the tail on the left side is longer or fatter than the right side.\\nMost data points are concentrated on the right.\\n\\n3.Zero Skewness (Symmetrical):\\n A distribution with zero skewness is perfectly symmetrical. \\nThe left and right sides of the distribution are mirror images.\\n\\n#How Skewness Affects Data Interpretation --> \\nCentral Tendency:\\nIn a positively skewed distribution, the mean is pulled to the right by the higher values, making it larger than the median.\\nIn a negatively skewed distribution, the mean is pulled to the left by the lower values, making it smaller than the median.\\nFor symmetrical distributions, the mean, median, and mode are equal.\\n\\nSpread and Outliers:\\nSkewness affects the spread of the data. In positively skewed distributions, the spread is larger on the right side, indicating the presence of high-value outliers.\\nIn negatively skewed distributions, the spread is larger on the left side, indicating the presence of low-value outliers.\\n\\nStatistical Analysis:\\nMany statistical tests assume normality (zero skewness). Skewed data may require transformation or non-parametric methods to meet these assumptions.\\nSkewness can impact the interpretation of measures like standard deviation and variance, as these measures assume symmetrical distributions.\\n'"
      ]
     },
     "execution_count": 21,
     "metadata": {},
     "output_type": "execute_result"
    }
   ],
   "source": [
    "'''\n",
    "Skewness is a measure of the asymmetry of a distribution. \n",
    "It indicates whether the data points are more concentrated on one side of the mean than the other.\n",
    "Skewness can be positive, negative, or zero, and it affects how we interpret the central tendency and spread of the data.\n",
    "\n",
    "Types of Skewness:\n",
    "1.Positive Skewness (Right Skew):\n",
    " In a positively skewed distribution, the tail on the right side is longer or fatter than the left side. \n",
    " Most data points are concentrated on the left.\n",
    "\n",
    "2.Negative Skewness (Left Skew):\n",
    "Description: In a negatively skewed distribution, the tail on the left side is longer or fatter than the right side.\n",
    "Most data points are concentrated on the right.\n",
    "\n",
    "3.Zero Skewness (Symmetrical):\n",
    " A distribution with zero skewness is perfectly symmetrical. \n",
    "The left and right sides of the distribution are mirror images.\n",
    "\n",
    "#How Skewness Affects Data Interpretation --> \n",
    "Central Tendency:\n",
    "In a positively skewed distribution, the mean is pulled to the right by the higher values, making it larger than the median.\n",
    "In a negatively skewed distribution, the mean is pulled to the left by the lower values, making it smaller than the median.\n",
    "For symmetrical distributions, the mean, median, and mode are equal.\n",
    "\n",
    "Spread and Outliers:\n",
    "Skewness affects the spread of the data. In positively skewed distributions, the spread is larger on the right side, indicating the presence of high-value outliers.\n",
    "In negatively skewed distributions, the spread is larger on the left side, indicating the presence of low-value outliers.\n",
    "\n",
    "Statistical Analysis:\n",
    "Many statistical tests assume normality (zero skewness). Skewed data may require transformation or non-parametric methods to meet these assumptions.\n",
    "Skewness can impact the interpretation of measures like standard deviation and variance, as these measures assume symmetrical distributions.\n",
    "'''\n",
    "\n"
   ]
  },
  {
   "cell_type": "markdown",
   "id": "1abe37ab-2e05-4cbb-9891-0d72147b8dbb",
   "metadata": {},
   "source": [
    "7. What is the interquartile range (IQR), and how is it used to detect outliers"
   ]
  },
  {
   "cell_type": "code",
   "execution_count": 26,
   "id": "f3486624-cb3b-45ea-83c8-c4b00ed0c8d0",
   "metadata": {},
   "outputs": [
    {
     "name": "stdout",
     "output_type": "stream",
     "text": [
      "IQR: 8.0\n",
      "Lower Bound: -7.0\n",
      "Upper Bound: 25.0\n",
      "Outliers: []\n"
     ]
    }
   ],
   "source": [
    "'''\n",
    "Interquartile Range (IQR):\n",
    "The Interquartile Range (IQR) is a measure of statistical dispersion, \n",
    "which is the spread of the middle 50% of the data.\n",
    "It is calculated as the difference between the third quartile and the first quartile.'''\n",
    "\n",
    "#how is it used to detect outliers\n",
    "data = np.array([1, 3, 5, 7, 9, 11, 13, 15, 17])\n",
    "\n",
    "Q1 = np.percentile(data, 25)\n",
    "Q3 = np.percentile(data, 75)\n",
    "\n",
    "IQR = Q3 - Q1\n",
    "\n",
    "lower_bound = Q1 - 1.5 * IQR\n",
    "upper_bound = Q3 + 1.5 * IQR\n",
    "\n",
    "outliers = data[(data < lower_bound) | (data > upper_bound)]\n",
    "\n",
    "print(f\"IQR: {IQR}\")\n",
    "print(f\"Lower Bound: {lower_bound}\")\n",
    "print(f\"Upper Bound: {upper_bound}\")\n",
    "print(f\"Outliers: {outliers}\")\n"
   ]
  },
  {
   "cell_type": "markdown",
   "id": "4591806c-f307-4cfd-8026-6972cc3830e1",
   "metadata": {},
   "source": [
    "8. Discuss the conditions under which the binomial distribution is used"
   ]
  },
  {
   "cell_type": "code",
   "execution_count": 29,
   "id": "b62a0a0e-7f41-413e-ad2f-afd3417bdc45",
   "metadata": {},
   "outputs": [
    {
     "data": {
      "text/plain": [
       "'\\nConditions for Using the Binomial Distribution:\\nThe binomial distribution is used to model the number of successes\\nin a fixed number of independent trials of a binary experiment.\\n\\n1.Fixed Number of Trials (n):\\nThe experiment must be repeated a fixed number of times. For example, flipping a coin 10 times or conducting 20 surveys.\\n2.Independent Trials:\\nEach trial must be independent of the others. The outcome of one trial should not affect the outcome of another.\\nFor instance, the result of one coin flip does not influence the result of the next flip.\\n3.Two Possible Outcomes:\\nEach trial must have exactly two possible outcomes, often labeled as “success” and “failure”.\\nFor example, getting heads or tails in a coin flip, or passing or failing a test.\\n4.Constant Probability of Success (p):\\nThe probability of success must remain the same for each trial. For example,\\nthe probability of getting heads in a fair coin flip is always 0.5\\n'"
      ]
     },
     "execution_count": 29,
     "metadata": {},
     "output_type": "execute_result"
    }
   ],
   "source": [
    "'''\n",
    "Conditions for Using the Binomial Distribution:\n",
    "The binomial distribution is used to model the number of successes\n",
    "in a fixed number of independent trials of a binary experiment.\n",
    "\n",
    "1.Fixed Number of Trials (n):\n",
    "The experiment must be repeated a fixed number of times. For example, flipping a coin 10 times or conducting 20 surveys.\n",
    "2.Independent Trials:\n",
    "Each trial must be independent of the others. The outcome of one trial should not affect the outcome of another.\n",
    "For instance, the result of one coin flip does not influence the result of the next flip.\n",
    "3.Two Possible Outcomes:\n",
    "Each trial must have exactly two possible outcomes, often labeled as “success” and “failure”.\n",
    "For example, getting heads or tails in a coin flip, or passing or failing a test.\n",
    "4.Constant Probability of Success (p):\n",
    "The probability of success must remain the same for each trial. For example,\n",
    "the probability of getting heads in a fair coin flip is always 0.5\n",
    "'''\n"
   ]
  },
  {
   "cell_type": "markdown",
   "id": "e0308ad4-36b7-46fa-9ee9-a295c8055d8e",
   "metadata": {},
   "source": [
    "9. Explain the properties of the normal distribution and the empirical rule (68-95-99.7 rule)"
   ]
  },
  {
   "cell_type": "code",
   "execution_count": 32,
   "id": "891869bf-c66a-4b55-b7fb-bef758840bea",
   "metadata": {},
   "outputs": [
    {
     "data": {
      "text/plain": [
       "'\\nProperties of the Normal Distribution\\nSymmetry: The distribution is symmetric around the mean.\\nUnimodal: It has a single peak at the mean.\\nMean = Median = Mode: All three measures of central tendency are equal.\\nAsymptotic: The tails approach the horizontal axis but never touch it.\\nDefined by Mean and Standard Deviation: The shape is determined by these two parameters.\\n\\nEmpirical Rule (68-95-99.7 Rule):\\nIn a normal distribution aprox \\n68% of data falls within 1 standard deviation of the mean.\\n95% of data falls within 2 standard deviations of the mean.\\n99.7% of data falls within 3 standard deviations of the mean'"
      ]
     },
     "execution_count": 32,
     "metadata": {},
     "output_type": "execute_result"
    }
   ],
   "source": [
    "'''\n",
    "Properties of the Normal Distribution\n",
    "Symmetry: The distribution is symmetric around the mean.\n",
    "Unimodal: It has a single peak at the mean.\n",
    "Mean = Median = Mode: All three measures of central tendency are equal.\n",
    "Asymptotic: The tails approach the horizontal axis but never touch it.\n",
    "Defined by Mean and Standard Deviation: The shape is determined by these two parameters.\n",
    "\n",
    "Empirical Rule (68-95-99.7 Rule):\n",
    "In a normal distribution aprox \n",
    "68% of data falls within 1 standard deviation of the mean.\n",
    "95% of data falls within 2 standard deviations of the mean.\n",
    "99.7% of data falls within 3 standard deviations of the mean'''"
   ]
  },
  {
   "cell_type": "markdown",
   "id": "44c24ccb-67d4-4856-8b8f-b809ad92def7",
   "metadata": {},
   "source": [
    "10. Provide a real-life example of a Poisson process and calculate the probability for a specific event."
   ]
  },
  {
   "cell_type": "code",
   "execution_count": 35,
   "id": "33f840a1-8ad7-4a6d-9679-f558e75c2dae",
   "metadata": {},
   "outputs": [
    {
     "name": "stdout",
     "output_type": "stream",
     "text": [
      "Probability of receiving exactly 15 calls in an hour: 0.03472\n"
     ]
    }
   ],
   "source": [
    "'''Real-Life Example of a Poisson Process\n",
    "A common real-life example of a Poisson process is the number of calls received by a call center per hour. \n",
    "Let’s assume a call center receives an average of 10 calls per hour.\n",
    "'''\n",
    "import math\n",
    "\n",
    "lambda_ = 10  # average number of calls per hour\n",
    "k = 15  # number of calls\n",
    "\n",
    "# Calculate Poisson probability\n",
    "poisson_prob = (math.exp(-lambda_) * lambda_**k) / math.factorial(k)\n",
    "\n",
    "print(f\"Probability of receiving exactly {k} calls in an hour: {poisson_prob:.5f}\")\n"
   ]
  },
  {
   "cell_type": "markdown",
   "id": "16d395f3-0411-4ebb-8dd0-f7df272263ec",
   "metadata": {},
   "source": [
    "11. Explain what a random variable is and differentiate between discrete and continuous random variables."
   ]
  },
  {
   "cell_type": "code",
   "execution_count": 38,
   "id": "e3c42be8-e40c-40ce-a623-6fbb33c24137",
   "metadata": {},
   "outputs": [
    {
     "data": {
      "text/plain": [
       "'\\nRandom Variable\\nA random variable is a numerical outcome of a random phenomenon.\\nIt assigns a numerical value to each possible outcome in a sample space of a random experiment.\\nRandom variables are fundamental in probability and statistics because they allow us to quantify and analyze random events.\\n\\nDifferences:->\\n\\nDiscrete: Countable, distinct values.\\nContinuous: Uncountable, infinite values within a range.\\n\\nDiscrete: Probability mass function (PMF).\\nContinuous: Probability density function (PDF).\\n\\nDiscrete: Number of books on a shelf, number of goals in a match.\\nContinuous: Weight of a person, amount of rainfall.\\n'"
      ]
     },
     "execution_count": 38,
     "metadata": {},
     "output_type": "execute_result"
    }
   ],
   "source": [
    "'''\n",
    "Random Variable\n",
    "A random variable is a numerical outcome of a random phenomenon.\n",
    "It assigns a numerical value to each possible outcome in a sample space of a random experiment.\n",
    "Random variables are fundamental in probability and statistics because they allow us to quantify and analyze random events.\n",
    "\n",
    "Differences:->\n",
    "\n",
    "Discrete: Countable, distinct values.\n",
    "Continuous: Uncountable, infinite values within a range.\n",
    "\n",
    "Discrete: Probability mass function (PMF).\n",
    "Continuous: Probability density function (PDF).\n",
    "\n",
    "Discrete: Number of books on a shelf, number of goals in a match.\n",
    "Continuous: Weight of a person, amount of rainfall.\n",
    "'''\n"
   ]
  },
  {
   "cell_type": "markdown",
   "id": "29774667-5a7b-47e1-879e-3804e116e482",
   "metadata": {},
   "source": [
    "12. Provide an example dataset, calculate both covariance and correlation, and interpret the results"
   ]
  },
  {
   "cell_type": "code",
   "execution_count": 45,
   "id": "28c80e6f-ec7f-45ea-ad31-e5d36dc21b6b",
   "metadata": {},
   "outputs": [
    {
     "name": "stdout",
     "output_type": "stream",
     "text": [
      "Result:->\n",
      "Covariance: 2.5\n",
      "Correlation: 0.9999999999999999\n"
     ]
    }
   ],
   "source": [
    "import numpy as np\n",
    "import pandas as pd\n",
    "\n",
    "data = {'X': [1, 2, 3, 4, 5], 'Y': [2, 3, 4, 5, 6]}\n",
    "df = pd.DataFrame(data)\n",
    "\n",
    "cov_matrix = np.cov(df['X'], df['Y'])\n",
    "covariance = cov_matrix[0, 1]\n",
    "\n",
    "correlation = np.corrcoef(df['X'], df['Y'])[0, 1]\n",
    "\n",
    "print(\"Result:->\")\n",
    "print(f\"Covariance: {covariance}\")\n",
    "print(f\"Correlation: {correlation}\")\n"
   ]
  },
  {
   "cell_type": "code",
   "execution_count": null,
   "id": "5edc6bb1-14b5-4416-943c-0d34927f752c",
   "metadata": {},
   "outputs": [],
   "source": []
  }
 ],
 "metadata": {
  "kernelspec": {
   "display_name": "Python 3 (ipykernel)",
   "language": "python",
   "name": "python3"
  },
  "language_info": {
   "codemirror_mode": {
    "name": "ipython",
    "version": 3
   },
   "file_extension": ".py",
   "mimetype": "text/x-python",
   "name": "python",
   "nbconvert_exporter": "python",
   "pygments_lexer": "ipython3",
   "version": "3.12.4"
  }
 },
 "nbformat": 4,
 "nbformat_minor": 5
}
